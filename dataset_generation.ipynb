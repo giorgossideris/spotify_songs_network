{
 "cells": [
  {
   "cell_type": "markdown",
   "id": "4fac0c21",
   "metadata": {},
   "source": [
    "# Spotify Songs Network - Dataset Generation\n",
    "* In this notebook we will create the dataset that we will use to create a Network about Spotify Songs, based on user's Playlists.\n",
    "* Specifically, we want to create a Network with the following characteristics\n",
    "  * **Nodes**: Songs\n",
    "  * **Edges**: will be created between songs if the songs are found in the same playlist.\n",
    "* In this notebook, we will create our dataset, and to do that we will obtain data from:\n",
    "  1. [Spotify Playlists](https://www.kaggle.com/andrewmvd/spotify-playlists) Dataset from [Kaggle](https://www.kaggle.com/).\n",
    "    * Pichl, Martin; Zangerle, Eva; Specht, Günther: \"Towards a Context-Aware Music Recommendation Approach: What is Hidden in the Playlist Name?\" in 15th IEEE International Conference on Data Mining Workshops (ICDM 2015), pp. 1360-1365, IEEE, Atlantic City, 2015.\n",
    "    * **License**: CC BY 4.0\n",
    "  2. [Spotify Web API](https://developer.spotify.com/documentation/web-api/)\n",
    "  3. [Chosic Music Genre Finder](https://www.chosic.com/music-genre-finder/)"
   ]
  },
  {
   "cell_type": "markdown",
   "id": "5c034c4e",
   "metadata": {},
   "source": [
    "## Spotify for Developers Credentials\n",
    "* In case a user of this notebook wants to execute the cells that create a connection with the [Spotify's Web API](https://developer.spotify.com/documentation/web-api/) it is necessary to create an application at http://developer.spotify.com.\n",
    "* In that way the user will get a client ID and a client secret.\n",
    "* Then, they have to create a file `spotify_config.py` with the following contents:\n",
    "\n",
    "  ```\n",
    "  config = {\n",
    "      'client_id' : 'XXXXXXXXXXXXXXXXXXXXXXXXXXXXXXXX',\n",
    "      'client_secret' :'XXXXXXXXXXXXXXXXXXXXXXXXXXXXXXXX'\n",
    "  }\n",
    "  ```\n",
    "  where instead of Xs there are the client ID and client secret of the user.\n",
    "* This file will be placed in the same folder as this notebook."
   ]
  },
  {
   "cell_type": "markdown",
   "id": "11a344fb",
   "metadata": {},
   "source": [
    "## Import packages\n",
    "* To begin with, we will import the packages, that we will use in the following segments of the project:\n",
    "    * [pandas](https://pandas.pydata.org/)\n",
    "    * [Spotipy](https://spotipy.readthedocs.io/en/2.19.0/)\n",
    "    * [webdriver-manager](https://pypi.org/project/webdriver-manager/)\n",
    "    * [Selenium](https://selenium-python.readthedocs.io/)\n",
    "    * [Beautiful Soup](https://beautiful-soup-4.readthedocs.io/en/latest/)\n",
    "* Note that the prementioned packages **must be locally installed too** in order to be used."
   ]
  },
  {
   "cell_type": "code",
   "execution_count": null,
   "id": "c7b44835",
   "metadata": {},
   "outputs": [],
   "source": [
    "import pandas as pd\n",
    "import spotipy\n",
    "from spotipy.oauth2 import SpotifyClientCredentials\n",
    "from webdriver_manager.firefox import GeckoDriverManager\n",
    "from selenium import webdriver\n",
    "from selenium.webdriver.firefox.service import Service\n",
    "from selenium.webdriver.firefox.options import Options\n",
    "from selenium.webdriver.common.by import By\n",
    "from selenium.webdriver.support import expected_conditions as EC\n",
    "from selenium.webdriver.support.ui import WebDriverWait\n",
    "from selenium.common.exceptions import TimeoutException\n",
    "from bs4 import BeautifulSoup\n",
    "import bs4\n",
    "\n",
    "import random\n",
    "from itertools import combinations\n",
    "from collections import defaultdict\n",
    "import csv"
   ]
  },
  {
   "cell_type": "markdown",
   "id": "037102b7",
   "metadata": {},
   "source": [
    "## Kaggle Dataset\n",
    "* As mentioned above, we will get the basic data from [Spotify Playlists](https://www.kaggle.com/andrewmvd/spotify-playlists) Dataset from [Kaggle](https://www.kaggle.com/).\n",
    "* After downloading it, we have to create a folder <code>data</code> and put it into it, under the name <code>spotify_dataset.csv.zip</code>.\n",
    "* So, let's read it."
   ]
  },
  {
   "cell_type": "code",
   "execution_count": 4,
   "id": "2ef239c7",
   "metadata": {},
   "outputs": [
    {
     "data": {
      "text/html": [
       "<div>\n",
       "<style scoped>\n",
       "    .dataframe tbody tr th:only-of-type {\n",
       "        vertical-align: middle;\n",
       "    }\n",
       "\n",
       "    .dataframe tbody tr th {\n",
       "        vertical-align: top;\n",
       "    }\n",
       "\n",
       "    .dataframe thead th {\n",
       "        text-align: right;\n",
       "    }\n",
       "</style>\n",
       "<table border=\"1\" class=\"dataframe\">\n",
       "  <thead>\n",
       "    <tr style=\"text-align: right;\">\n",
       "      <th></th>\n",
       "      <th>user_id</th>\n",
       "      <th>\"artistname\"</th>\n",
       "      <th>\"trackname\"</th>\n",
       "      <th>\"playlistname\"</th>\n",
       "    </tr>\n",
       "  </thead>\n",
       "  <tbody>\n",
       "    <tr>\n",
       "      <th>0</th>\n",
       "      <td>9cc0cfd4d7d7885102480dd99e7a90d6</td>\n",
       "      <td>Elvis Costello</td>\n",
       "      <td>(The Angels Wanna Wear My) Red Shoes</td>\n",
       "      <td>HARD ROCK 2010</td>\n",
       "    </tr>\n",
       "    <tr>\n",
       "      <th>1</th>\n",
       "      <td>9cc0cfd4d7d7885102480dd99e7a90d6</td>\n",
       "      <td>Elvis Costello &amp; The Attractions</td>\n",
       "      <td>(What's So Funny 'Bout) Peace, Love And Unders...</td>\n",
       "      <td>HARD ROCK 2010</td>\n",
       "    </tr>\n",
       "    <tr>\n",
       "      <th>2</th>\n",
       "      <td>9cc0cfd4d7d7885102480dd99e7a90d6</td>\n",
       "      <td>Tiffany Page</td>\n",
       "      <td>7 Years Too Late</td>\n",
       "      <td>HARD ROCK 2010</td>\n",
       "    </tr>\n",
       "    <tr>\n",
       "      <th>3</th>\n",
       "      <td>9cc0cfd4d7d7885102480dd99e7a90d6</td>\n",
       "      <td>Elvis Costello &amp; The Attractions</td>\n",
       "      <td>Accidents Will Happen</td>\n",
       "      <td>HARD ROCK 2010</td>\n",
       "    </tr>\n",
       "    <tr>\n",
       "      <th>4</th>\n",
       "      <td>9cc0cfd4d7d7885102480dd99e7a90d6</td>\n",
       "      <td>Elvis Costello</td>\n",
       "      <td>Alison</td>\n",
       "      <td>HARD ROCK 2010</td>\n",
       "    </tr>\n",
       "  </tbody>\n",
       "</table>\n",
       "</div>"
      ],
      "text/plain": [
       "                            user_id                      \"artistname\"  \\\n",
       "0  9cc0cfd4d7d7885102480dd99e7a90d6                    Elvis Costello   \n",
       "1  9cc0cfd4d7d7885102480dd99e7a90d6  Elvis Costello & The Attractions   \n",
       "2  9cc0cfd4d7d7885102480dd99e7a90d6                      Tiffany Page   \n",
       "3  9cc0cfd4d7d7885102480dd99e7a90d6  Elvis Costello & The Attractions   \n",
       "4  9cc0cfd4d7d7885102480dd99e7a90d6                    Elvis Costello   \n",
       "\n",
       "                                         \"trackname\"  \"playlistname\"  \n",
       "0               (The Angels Wanna Wear My) Red Shoes  HARD ROCK 2010  \n",
       "1  (What's So Funny 'Bout) Peace, Love And Unders...  HARD ROCK 2010  \n",
       "2                                   7 Years Too Late  HARD ROCK 2010  \n",
       "3                              Accidents Will Happen  HARD ROCK 2010  \n",
       "4                                             Alison  HARD ROCK 2010  "
      ]
     },
     "execution_count": 4,
     "metadata": {},
     "output_type": "execute_result"
    }
   ],
   "source": [
    "df = pd.read_csv('data/spotify_dataset.csv.zip', on_bad_lines='skip')\n",
    "df.head(5)"
   ]
  },
  {
   "cell_type": "markdown",
   "id": "6014412d",
   "metadata": {},
   "source": [
    "* Next, we will rename the columns."
   ]
  },
  {
   "cell_type": "code",
   "execution_count": null,
   "id": "35dd4e34",
   "metadata": {},
   "outputs": [],
   "source": [
    "df.rename(columns={' \"artistname\"' : 'Artist', ' \"trackname\"': 'Track_Name', ' \"playlistname\"': 'Playlist_Name'}, inplace=True)"
   ]
  },
  {
   "cell_type": "markdown",
   "id": "f073c763",
   "metadata": {},
   "source": [
    "* Because our dataset contains too many songs we will **keep** only those that are included in more than 500 playlists.\n",
    "* We will do that because if we have to many nodes in our Network, it will not be easily **interpretable**."
   ]
  },
  {
   "cell_type": "code",
   "execution_count": null,
   "id": "9a7f3d12",
   "metadata": {},
   "outputs": [],
   "source": [
    "#https://stackoverflow.com/questions/44888858/how-to-drop-unique-rows-in-a-pandas-dataframe\n",
    "df = df[df.groupby(['Track_Name', 'Artist'])['Track_Name'].transform('size') > 500]"
   ]
  }
 ],
 "metadata": {
  "kernelspec": {
   "display_name": "Python 3 (ipykernel)",
   "language": "python",
   "name": "python3"
  },
  "language_info": {
   "codemirror_mode": {
    "name": "ipython",
    "version": 3
   },
   "file_extension": ".py",
   "mimetype": "text/x-python",
   "name": "python",
   "nbconvert_exporter": "python",
   "pygments_lexer": "ipython3",
   "version": "3.9.0"
  }
 },
 "nbformat": 4,
 "nbformat_minor": 5
}
